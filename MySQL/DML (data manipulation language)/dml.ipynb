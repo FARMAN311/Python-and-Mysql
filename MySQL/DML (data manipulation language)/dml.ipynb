{
 "cells": [
  {
   "cell_type": "markdown",
   "metadata": {},
   "source": [
    "### Create Database"
   ]
  },
  {
   "cell_type": "markdown",
   "metadata": {},
   "source": [
    "```create database database_name```"
   ]
  },
  {
   "cell_type": "markdown",
   "metadata": {},
   "source": [
    "### Create Table "
   ]
  },
  {
   "cell_type": "markdown",
   "metadata": {},
   "source": [
    "\n",
    "```\n",
    "create table users(\n",
    "user_id integer primary key auto_increment,\n",
    "name varchar(255) not null,\n",
    "email varchar(50) not null,\n",
    "password varchar(255) not null\n",
    ")\n",
    "```"
   ]
  },
  {
   "cell_type": "markdown",
   "metadata": {},
   "source": [
    "## insert"
   ]
  },
  {
   "cell_type": "markdown",
   "metadata": {},
   "source": [
    "```\n",
    "insert into campusx.users(user_id,name,email,password)\n",
    "values (null,\"nitish\",\"nitish@gmail.com\",\"1234\")\n",
    "```"
   ]
  },
  {
   "cell_type": "markdown",
   "metadata": {},
   "source": [
    "we can insert the record in this way too but make sure to insert the data with the same table column order\n",
    "```\n",
    "insert into campusx.users\n",
    "values (null,\"kamran\",\"kamran@gmail.com\",\"5678\")\n",
    "```"
   ]
  },
  {
   "cell_type": "markdown",
   "metadata": {},
   "source": [
    "we can insert the mention column values too to specifies the column name\n",
    "```\n",
    "insert into campusx.users(name,email) values(\"salman\",\"salman@gmail.com\")\n",
    "```"
   ]
  },
  {
   "cell_type": "markdown",
   "metadata": {},
   "source": [
    "there is no need for ordering the column if you specifies the column name \n",
    "```\n",
    "insert into campusx.users(password,name,email,user_id)\n",
    "values (1234,\"nitish\",\"nitish@gmail.com\",null)\n",
    "```"
   ]
  },
  {
   "cell_type": "markdown",
   "metadata": {},
   "source": [
    "inserting more than one record\n",
    "```\n",
    "insert into campusx.users values\n",
    "(null,\"ahmed\",\"ahmed@gmail.com\",\"34566\"),\n",
    "(null,\"amjad\",\"amjad@gmail.com\",\"65423\"),\n",
    "(null,\"ahad\",\"ahad@gmail.com\",\"0193812\")\n",
    "```"
   ]
  },
  {
   "cell_type": "markdown",
   "metadata": {},
   "source": [
    "## How to import the into mysql workbench"
   ]
  },
  {
   "cell_type": "markdown",
   "metadata": {},
   "source": [
    "1. first go to the desire database\n",
    "2. Right Click on the tables \n",
    "3. then Click the option appeared \"Table Data Import Wizard\"\n",
    "4. and then Browse the file and select the file on your local system then click next\n",
    "5. then select \"create new table\" option and then click next\n",
    "6. Change the datatype if you want and then click next\n",
    "7. click next again and the data will import\n"
   ]
  },
  {
   "cell_type": "markdown",
   "metadata": {},
   "source": [
    "## Select all the rows in the Table"
   ]
  },
  {
   "cell_type": "markdown",
   "metadata": {},
   "source": [
    "```Select * from campusx.smartphones```"
   ]
  },
  {
   "cell_type": "markdown",
   "metadata": {},
   "source": [
    "we can extract the specific columns too\n",
    "``` select os,model,battery_capicity from smartphones.smartphones_cleaned ```"
   ]
  },
  {
   "cell_type": "markdown",
   "metadata": {},
   "source": [
    "## mathematical expression as a Column"
   ]
  },
  {
   "cell_type": "markdown",
   "metadata": {},
   "source": [
    "``` \n",
    "SELECT model, \n",
    "sqrt(resolution_width*resolution_width + resolution_height*resolution_height)/screen_size as \"ppi\"\n",
    "FROM smartphone.smartphones_cleaned; \n",
    "```"
   ]
  },
  {
   "cell_type": "markdown",
   "metadata": {},
   "source": [
    "## Constant Columns"
   ]
  },
  {
   "cell_type": "markdown",
   "metadata": {},
   "source": [
    "``` select model, \"smartphone\" as \"type\" from smartphone.smartphones_cleaned ```"
   ]
  },
  {
   "cell_type": "markdown",
   "metadata": {},
   "source": [
    "## Distinct(Unique) values"
   ]
  },
  {
   "cell_type": "markdown",
   "metadata": {},
   "source": [
    "``` select Distinct(brand_name) as \"all brands\" from smartphone.smartphones_cleaned ```"
   ]
  },
  {
   "cell_type": "markdown",
   "metadata": {},
   "source": [
    "## Distinct(Unique) two Columns Combinations"
   ]
  },
  {
   "cell_type": "markdown",
   "metadata": {},
   "source": [
    "```SELECT distinct brand_name, processor_brand FROM smartphone.smartphones_cleaned;```"
   ]
  },
  {
   "cell_type": "markdown",
   "metadata": {},
   "source": [
    "## Filter rows Where Clause"
   ]
  },
  {
   "cell_type": "markdown",
   "metadata": {},
   "source": [
    "``` SELECT * FROM smartphone.smartphones_cleaned where brand_name = \"samsung\"; ```"
   ]
  },
  {
   "cell_type": "markdown",
   "metadata": {},
   "source": [
    "``` \n",
    "SELECT * FROM smartphone.smartphones_cleaned where price > 5000;\n",
    "\n",
    "SELECT distinct(brand_name) FROM smartphone.smartphones_cleaned \n",
    "where price > 50000;\n",
    "\n",
    "```"
   ]
  },
  {
   "cell_type": "markdown",
   "metadata": {},
   "source": [
    "## Between"
   ]
  },
  {
   "cell_type": "markdown",
   "metadata": {},
   "source": [
    "```\n",
    "SELECT * FROM smartphone.smartphones_cleaned where price between 10000 and 20000;\n",
    "\n",
    " ```"
   ]
  },
  {
   "cell_type": "markdown",
   "metadata": {},
   "source": [
    "### logical operator"
   ]
  },
  {
   "cell_type": "markdown",
   "metadata": {},
   "source": [
    "```\n",
    "SELECT * FROM smartphone.smartphones_cleaned where price > 5000 and price < 20000;\n",
    "\n",
    "SELECT * FROM smartphone.smartphones_cleaned \n",
    "where price < 25000 and rating > 80 and processor_brand = \"snapdragon\";\n",
    "\n",
    "SELECT * FROM smartphone.smartphones_cleaned where \n",
    "brand_name = 'samsung' and ram_capacity > 8;\n",
    "\n",
    "SELECT * FROM smartphone.smartphones_cleaned\n",
    "where processor_brand = \"snapdragon\" or processor_brand = \"exynous\"\n",
    "or processor_brand = \"bionic\";\n",
    "```"
   ]
  },
  {
   "cell_type": "markdown",
   "metadata": {},
   "source": [
    "## in and not in"
   ]
  },
  {
   "cell_type": "markdown",
   "metadata": {},
   "source": [
    "```\n",
    "SELECT * FROM smartphone.smartphones_cleaned \n",
    "where processor_brand in (\"snapdragon\",\"exynos\",\"bionic\");\n",
    "\n",
    "SELECT * FROM smartphone.smartphones_cleaned \n",
    "where processor_brand not in (\"snapdragon\",\"exynos\",\"bionic\");\n",
    "```"
   ]
  },
  {
   "cell_type": "markdown",
   "metadata": {},
   "source": [
    "## Query Execution Order\n",
    "#### from -> join -> where -> group by -> having -> select -> distinct -> Order by"
   ]
  },
  {
   "cell_type": "markdown",
   "metadata": {},
   "source": [
    "# Update"
   ]
  },
  {
   "cell_type": "markdown",
   "metadata": {},
   "source": [
    "```\n",
    "update smartphone.smartphones_cleaned\n",
    "set processor_brand = \"dimensity\" where processor_brand = \"mediatek\"\n",
    "\n",
    "update campusx.users set email = \"nitish@gmail.com\", passwrod = \"12345\"\n",
    "where name = \"nitish\"\n",
    "```"
   ]
  },
  {
   "cell_type": "markdown",
   "metadata": {},
   "source": [
    "# Delete"
   ]
  },
  {
   "cell_type": "markdown",
   "metadata": {},
   "source": [
    "```\n",
    "delete FROM smartphone.smartphones_cleaned\n",
    "where price > 200000;\n",
    "\n",
    "delete FROM smartphone.smartphones_cleaned\n",
    "where primary_camera_rear > 150 and brand_name = \"samsung\"\n",
    "```"
   ]
  }
 ],
 "metadata": {
  "language_info": {
   "name": "python"
  }
 },
 "nbformat": 4,
 "nbformat_minor": 2
}
