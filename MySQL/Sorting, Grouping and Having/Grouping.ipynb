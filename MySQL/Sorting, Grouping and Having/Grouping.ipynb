{
 "cells": [
  {
   "cell_type": "markdown",
   "metadata": {},
   "source": [
    "## Order of EXecution in Structure Query Language\n",
    "### From -> join -> Where -> Group by -> Having -> Select -> Distinct -> Order by"
   ]
  },
  {
   "cell_type": "markdown",
   "metadata": {},
   "source": [
    "## Grouping"
   ]
  },
  {
   "cell_type": "markdown",
   "metadata": {},
   "source": [
    "### 1. Group Smartphone by brand and get the count, average price, max rating, avg screen size and avg battery capicity"
   ]
  },
  {
   "cell_type": "markdown",
   "metadata": {},
   "source": [
    "SELECT brand_name,count(*), round(avg(price)), max(rating), round(avg(screen_size)), round(avg(battery_capacity)) \"num_phones\" FROM smartphone.smartphones_cleaned \n",
    "group by brand_name order by num_phones Desc"
   ]
  },
  {
   "cell_type": "markdown",
   "metadata": {},
   "source": [
    "### 2.Group smartphones by weather they have an NFC and get the average price and rating "
   ]
  },
  {
   "cell_type": "markdown",
   "metadata": {},
   "source": [
    "SELECT has_nfc, avg(price), avg(rating) FROM smartphone.smartphones_cleaned\n",
    "group by has_nfc"
   ]
  },
  {
   "cell_type": "markdown",
   "metadata": {},
   "source": [
    "### 3.Group smartphones by the extended memmory available and get the average price"
   ]
  },
  {
   "cell_type": "markdown",
   "metadata": {},
   "source": [
    "SELECT extended_memory_available, avg(price) FROM smartphone.smartphones_cleaned\n",
    "group by extended_memory_available"
   ]
  },
  {
   "cell_type": "markdown",
   "metadata": {},
   "source": [
    "### 4.Group smartphone by the brand and processor brand and get the count of models and the average primary camera resolution(rear)"
   ]
  },
  {
   "cell_type": "markdown",
   "metadata": {},
   "source": [
    "SELECT brand_name,\n",
    "processor_brand,\n",
    "count(*) as \"num of phones\",\n",
    "round(avg(primary_camera_rear)) as \"avg Camera Resolution\"\n",
    " FROM smartphone.smartphones_cleaned\n",
    " group by brand_name, processor_brand"
   ]
  },
  {
   "cell_type": "markdown",
   "metadata": {},
   "source": [
    "### 5.Find Top 5 most costly phone brand"
   ]
  },
  {
   "cell_type": "markdown",
   "metadata": {},
   "source": [
    "SELECT brand_name, avg(price) FROM smartphone.smartphones_cleaned\n",
    "group by brand_name order by avg(price) desc limit 5;"
   ]
  },
  {
   "cell_type": "markdown",
   "metadata": {},
   "source": [
    "### 6.Which brands makes the smallest screen smartphones"
   ]
  },
  {
   "cell_type": "markdown",
   "metadata": {},
   "source": [
    "SELECT brand_name, avg(screen_size) FROM smartphone.smartphones_cleaned\n",
    "group by brand_name order by avg(screen_size) asc limit 1;"
   ]
  },
  {
   "cell_type": "markdown",
   "metadata": {},
   "source": [
    "### 7. Average price of 5g phones vs Average price of non 5g phones"
   ]
  },
  {
   "cell_type": "markdown",
   "metadata": {},
   "source": [
    "SELECT has_5g, avg(price) FROM smartphone.smartphones_cleaned\n",
    "group by has_5g;"
   ]
  },
  {
   "cell_type": "markdown",
   "metadata": {},
   "source": [
    "### 8. Group smartphones by the brand, and find the brand with the highest number of model that have both NFC and an IR blaster"
   ]
  },
  {
   "cell_type": "markdown",
   "metadata": {},
   "source": [
    "SELECT brand_name, count(*) FROM smartphone.smartphones_cleaned\n",
    "where has_nfc = \"True\" and has_ir_blaster = \"True\"\n",
    "Group by brand_name order by count(*) desc limit 1"
   ]
  },
  {
   "cell_type": "markdown",
   "metadata": {},
   "source": [
    "### 9.Find all samsung 5g enabled smartphones and findout the avg price for nfc and non_nfc phones"
   ]
  },
  {
   "cell_type": "markdown",
   "metadata": {},
   "source": [
    "SELECT has_nfc, avg(price) FROM smartphone.smartphones_cleaned\n",
    "where brand_name = 'samsung'\n",
    "group by has_nfc;"
   ]
  },
  {
   "cell_type": "markdown",
   "metadata": {},
   "source": []
  }
 ],
 "metadata": {
  "language_info": {
   "name": "python"
  }
 },
 "nbformat": 4,
 "nbformat_minor": 2
}
