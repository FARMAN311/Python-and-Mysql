{
 "cells": [
  {
   "cell_type": "markdown",
   "metadata": {},
   "source": [
    "## Having"
   ]
  },
  {
   "cell_type": "markdown",
   "metadata": {},
   "source": [
    "### 1.Find the average rating of smartphone brands which have more than 20 phones"
   ]
  },
  {
   "cell_type": "markdown",
   "metadata": {},
   "source": [
    "SELECT brand_name, count(*) as \"count\",\n",
    "avg(rating) as \"average rating\" \n",
    "FROM smartphone.smartphones_cleaned\n",
    "group by brand_name having count > 20\n",
    "order by \"average rating\" desc;"
   ]
  },
  {
   "cell_type": "markdown",
   "metadata": {},
   "source": [
    "### 2.Find the top 3 brands with the highest avg ram that have a refresh rate of atleast 90 hz and fast charging avilabel and dont considers brands which have less than 10 phones"
   ]
  },
  {
   "cell_type": "markdown",
   "metadata": {},
   "source": [
    "SELECT brand_name, avg(ram_capacity) FROM smartphone.smartphones_cleaned\n",
    "where refresh_rate > 90 and fast_charging_available = 1\n",
    "group by brand_name having count(*) > 10\n",
    "order by avg(ram_capacity) desc limit 3;"
   ]
  },
  {
   "cell_type": "markdown",
   "metadata": {},
   "source": [
    "### 3.Find the average price of all the phone brands with avg rating > 70 and num_phones more than 10 among all 5g enabled phones"
   ]
  },
  {
   "cell_type": "markdown",
   "metadata": {},
   "source": [
    "SELECT brand_name, avg(price) as \"avg_price\" FROM smartphone.smartphones_cleaned\n",
    "where has_5g=\"True\" group by brand_name\n",
    "having avg(rating) > 70 and count(*) > 10;"
   ]
  },
  {
   "cell_type": "markdown",
   "metadata": {},
   "source": []
  }
 ],
 "metadata": {
  "language_info": {
   "name": "python"
  }
 },
 "nbformat": 4,
 "nbformat_minor": 2
}
