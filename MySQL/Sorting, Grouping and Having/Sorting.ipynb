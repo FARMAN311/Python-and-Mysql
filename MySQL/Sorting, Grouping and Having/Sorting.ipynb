{
 "cells": [
  {
   "cell_type": "markdown",
   "metadata": {},
   "source": [
    "## Order of EXecution in Structure Query Language\n",
    "### From -> join -> Where -> Group by -> Having -> Select -> Distinct -> Order by"
   ]
  },
  {
   "cell_type": "markdown",
   "metadata": {},
   "source": [
    "## Sorting\n",
    "### 1. Find top 5 simsung phones with biggest screen size,"
   ]
  },
  {
   "cell_type": "markdown",
   "metadata": {},
   "source": [
    "SELECT * FROM smartphone.smartphones_cleaned where brand_name = \"samsung\"\n",
    "order by screen_size desc limit 5"
   ]
  },
  {
   "cell_type": "markdown",
   "metadata": {},
   "source": [
    "### 2. Sort all the phones in descending order of number of total cameras"
   ]
  },
  {
   "cell_type": "markdown",
   "metadata": {},
   "source": [
    "select brand_name, num_front_cameras + num_rear_cameras as \"Total_Cameras\" from smartphones_cleaned \n",
    "order by Total_Cameras desc"
   ]
  },
  {
   "cell_type": "markdown",
   "metadata": {},
   "source": [
    "### 3. Sort Data on the basis of ppi in decreasing order"
   ]
  },
  {
   "cell_type": "markdown",
   "metadata": {},
   "source": [
    "select model, \n",
    "round(sqrt(resolution_width*resolution_width + resolution_height*resolution_height)/screen_size) as \"ppi\"\n",
    "from smartphones_cleaned order by ppi desc"
   ]
  },
  {
   "cell_type": "markdown",
   "metadata": {},
   "source": [
    "### 4.Find the Phone with second Largest battery"
   ]
  },
  {
   "cell_type": "markdown",
   "metadata": {},
   "source": [
    "select model, battery_capacity from smartphones_cleaned order by battery_capacity desc limit 1,1"
   ]
  },
  {
   "cell_type": "markdown",
   "metadata": {},
   "source": [
    "### 5.Find the name and rating of the worst rated apple phone"
   ]
  },
  {
   "cell_type": "markdown",
   "metadata": {},
   "source": [
    "SELECT model, rating FROM smartphones_cleaned where brand_name = \"apple\" order by rating asc limit 1"
   ]
  },
  {
   "cell_type": "markdown",
   "metadata": {},
   "source": [
    "### 6.Sort phone alphabetically and then a basis of rating in desc order"
   ]
  },
  {
   "cell_type": "markdown",
   "metadata": {},
   "source": [
    "SELECT * FROM smartphone.smartphones_cleaned order by brand_name asc, rating desc"
   ]
  },
  {
   "cell_type": "markdown",
   "metadata": {},
   "source": [
    "### 7.Sort phone alphabetically and then a basis of price in ascending order"
   ]
  },
  {
   "cell_type": "markdown",
   "metadata": {},
   "source": [
    "SELECT * FROM smartphone.smartphones_cleaned order by brand_name asc, price asc"
   ]
  },
  {
   "cell_type": "markdown",
   "metadata": {},
   "source": []
  }
 ],
 "metadata": {
  "language_info": {
   "name": "python"
  }
 },
 "nbformat": 4,
 "nbformat_minor": 2
}
